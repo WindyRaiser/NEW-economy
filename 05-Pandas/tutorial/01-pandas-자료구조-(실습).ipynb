{
  "cells": [
    {
      "cell_type": "markdown",
      "metadata": {
        "id": "view-in-github",
        "colab_type": "text"
      },
      "source": [
        "<a href=\"https://colab.research.google.com/github/WindyRaiser/NEW-economy/blob/main/05-Pandas/tutorial/01-pandas-%EC%9E%90%EB%A3%8C%EA%B5%AC%EC%A1%B0-(%EC%8B%A4%EC%8A%B5).ipynb\" target=\"_parent\"><img src=\"https://colab.research.google.com/assets/colab-badge.svg\" alt=\"Open In Colab\"/></a>"
      ]
    },
    {
      "cell_type": "code",
      "execution_count": null,
      "metadata": {
        "id": "RGhyFtVF0F0m"
      },
      "outputs": [],
      "source": [
        "from IPython.display import Image\n",
        "import numpy as np"
      ]
    },
    {
      "cell_type": "code",
      "execution_count": null,
      "metadata": {
        "id": "HwHF_kG20F0p"
      },
      "outputs": [],
      "source": [
        "Image('https://upload.wikimedia.org/wikipedia/commons/thumb/e/ed/Pandas_logo.svg/1280px-Pandas_logo.svg.png', width=500)"
      ]
    },
    {
      "cell_type": "markdown",
      "metadata": {
        "id": "7JlwKZTBgmxZ"
      },
      "source": [
        "## Pandas"
      ]
    },
    {
      "cell_type": "markdown",
      "metadata": {
        "id": "4mTO7jL3gmxb"
      },
      "source": [
        "### 개요"
      ]
    },
    {
      "cell_type": "markdown",
      "metadata": {
        "id": "JdX9Q0-f0F0s"
      },
      "source": [
        "**관계형** 또는 **레이블이 된** 데이터로 쉽고 직관적 으로 작업할 수 있도록 설계되었고, 빠르고, 유연한 데이터 구조를 제공하는 Python 패키지입니다.\n",
        "\n",
        "또한, 어떤 언어로도 사용할 수 있는 가장 **강력하고 유연한 오픈 소스 데이터 분석 / 조직 도구**입니다.\n",
        "\n",
        "Pandas는 다음의 종류의 데이터에 **적합한 분석 패키지**입니다.\n",
        "\n",
        "- SQL 테이블 또는 Excel 스프레드 시트에서와 같은 열과 행으로 이루어진 테이블 형식 데이터\n",
        "- 정렬되고 정렬되지 않은 시계열 데이터\n",
        "- 다른 형태의 관찰 / 통계 데이터 세트"
      ]
    },
    {
      "cell_type": "markdown",
      "metadata": {
        "id": "apbGGjC3gmxc"
      },
      "source": [
        "### Pandas 공식 문서"
      ]
    },
    {
      "cell_type": "markdown",
      "metadata": {
        "id": "w694qy6q0F0s"
      },
      "source": [
        "공식 문서는 다음 링크에서 확인할 수 있습니다.\n",
        "- [공식 도큐먼트](https://pandas.pydata.org/docs/reference/index.html)"
      ]
    },
    {
      "cell_type": "markdown",
      "metadata": {
        "id": "w9_p1q2TAn75"
      },
      "source": [
        "## alias(별칭)와 버전"
      ]
    },
    {
      "cell_type": "code",
      "execution_count": null,
      "metadata": {
        "id": "Un5JmZ81An75"
      },
      "outputs": [],
      "source": [
        "import pandas"
      ]
    },
    {
      "cell_type": "code",
      "execution_count": null,
      "metadata": {
        "id": "A_29uyJaAn76"
      },
      "outputs": [],
      "source": [
        "pandas.__version__"
      ]
    },
    {
      "cell_type": "markdown",
      "metadata": {
        "id": "ycrnnzp3zOD3"
      },
      "source": [
        "pandas는 `pd`의 alias를 사용합니다."
      ]
    },
    {
      "cell_type": "code",
      "execution_count": null,
      "metadata": {
        "id": "EQYEmsFMAn77"
      },
      "outputs": [],
      "source": [
        "import pandas as pd"
      ]
    },
    {
      "cell_type": "code",
      "execution_count": null,
      "metadata": {
        "id": "0t7Ncv1JAn78"
      },
      "outputs": [],
      "source": [
        "pd"
      ]
    },
    {
      "cell_type": "code",
      "execution_count": null,
      "metadata": {
        "id": "CAa7w6PYAn78"
      },
      "outputs": [],
      "source": [
        "pd.__version__"
      ]
    },
    {
      "cell_type": "markdown",
      "metadata": {
        "id": "7QdgIZT8An7_"
      },
      "source": [
        "## Series"
      ]
    },
    {
      "cell_type": "markdown",
      "metadata": {
        "id": "P5YZN-PNgmxi"
      },
      "source": [
        "[도큐먼트](https://pandas.pydata.org/pandas-docs/stable/reference/api/pandas.Series.html?highlight=series#pandas.Series)"
      ]
    },
    {
      "cell_type": "markdown",
      "metadata": {
        "id": "RwpESJ0EzOD-"
      },
      "source": [
        "Pandas의 Series는 1차원 배열로서 다음의 특징을 가집니다.\n",
        "\n",
        "- 데이터를 담는 **차원 배열 구조**를 가집니다.\n",
        "- **인덱스(index)를 사용 가능**합니다.\n",
        "- **데이터 타입**을 가집니다. (dtype)"
      ]
    },
    {
      "cell_type": "markdown",
      "metadata": {
        "id": "1A3VjMSdgmxi"
      },
      "source": [
        "### Series의 생성"
      ]
    },
    {
      "cell_type": "markdown",
      "metadata": {
        "id": "HLJUW0oCgmxi"
      },
      "source": [
        "#### **numpy array**로 생성한 경우"
      ]
    },
    {
      "cell_type": "code",
      "execution_count": null,
      "metadata": {
        "id": "BX34DO8Ugmxj"
      },
      "outputs": [],
      "source": [
        "arr = np.arange(100, 105)\n",
        "arr"
      ]
    },
    {
      "cell_type": "code",
      "execution_count": null,
      "metadata": {
        "id": "T4plHGJGgmxj"
      },
      "outputs": [],
      "source": [
        "s = pd.Series(arr)\n",
        "s"
      ]
    },
    {
      "cell_type": "markdown",
      "metadata": {
        "id": "fIjG581Xgmxj"
      },
      "source": [
        "#### dtype을 지정한 경우"
      ]
    },
    {
      "cell_type": "code",
      "execution_count": null,
      "metadata": {
        "id": "mndh627zgmxj"
      },
      "outputs": [],
      "source": [
        "s = pd.Series(arr, dtype='int32')\n",
        "s"
      ]
    },
    {
      "cell_type": "markdown",
      "metadata": {
        "id": "duexlrJOgmxk"
      },
      "source": [
        "#### **list**로 생성한 경우"
      ]
    },
    {
      "cell_type": "code",
      "execution_count": null,
      "metadata": {
        "id": "LqZF3fHwAn8A"
      },
      "outputs": [],
      "source": [
        "s = pd.Series(['부장', '차장', '대리', '사원', '인턴'])\n",
        "s"
      ]
    },
    {
      "cell_type": "markdown",
      "metadata": {
        "id": "bTm3mK2dgmxk"
      },
      "source": [
        "#### 다양한 타입(type)의 데이터를 섞은 경우"
      ]
    },
    {
      "cell_type": "markdown",
      "metadata": {
        "id": "Qxg0guRO0F09"
      },
      "source": [
        "Series에 다양한 데이터 타입의 데이터로 생성시, **object** 타입으로 생성됩니다."
      ]
    },
    {
      "cell_type": "code",
      "execution_count": null,
      "metadata": {
        "id": "m1g93TLU0F0-"
      },
      "outputs": [],
      "source": [
        "s = pd.Series([91, 2.5, '스포츠', 4, 5.16])\n",
        "s"
      ]
    },
    {
      "cell_type": "markdown",
      "metadata": {
        "id": "pH7s3CL0gmxl"
      },
      "source": [
        "### index"
      ]
    },
    {
      "cell_type": "code",
      "execution_count": null,
      "metadata": {
        "id": "8_xGzojBgmxl"
      },
      "outputs": [],
      "source": [
        "s = pd.Series(['부장', '차장', '대리', '사원', '인턴'])\n",
        "s"
      ]
    },
    {
      "cell_type": "code",
      "execution_count": null,
      "metadata": {
        "id": "rhO37nPJgmxl"
      },
      "outputs": [],
      "source": [
        "s.index"
      ]
    },
    {
      "cell_type": "markdown",
      "metadata": {
        "id": "rJm6-xENzOEA"
      },
      "source": [
        "기본 `index`는 0부터 숫자형 index가 부여되는 `RangeIndex`로 생성됩니다.\n",
        "\n",
        "`RangeIndex`의 범위 안에 있는 숫자로 색인(indexing) 할 수 있습니다."
      ]
    },
    {
      "cell_type": "code",
      "execution_count": null,
      "metadata": {
        "id": "FCOn8AEQ0F1C"
      },
      "outputs": [],
      "source": [
        "s[0]"
      ]
    },
    {
      "cell_type": "markdown",
      "metadata": {
        "id": "RswAGwvFgmxm"
      },
      "source": [
        "하지만, `RangeIndex`는 start=0 ~ stop=5 까지의 범위를 가지므로 음수(negative) 색인이 불가합니다."
      ]
    },
    {
      "cell_type": "code",
      "execution_count": null,
      "metadata": {
        "id": "4oDGaVHpgmxm"
      },
      "outputs": [],
      "source": [
        "s[-1]"
      ]
    },
    {
      "cell_type": "markdown",
      "metadata": {
        "id": "06nI6954zOEC"
      },
      "source": [
        "기본 값으로 부여되는 `RangeIndex`에 사용자 정의의 `index`를 **지정**할 수 있습니다."
      ]
    },
    {
      "cell_type": "code",
      "execution_count": null,
      "metadata": {
        "id": "EGkih_7RAn8B"
      },
      "outputs": [],
      "source": [
        "s = pd.Series(['마케팅', '경영', '개발', '기획', '인사'], index=['a', 'b', 'c', 'd', 'e'])\n",
        "s"
      ]
    },
    {
      "cell_type": "code",
      "execution_count": null,
      "metadata": {
        "id": "uKJkL1g3gmxm"
      },
      "outputs": [],
      "source": [
        "s.index"
      ]
    },
    {
      "cell_type": "markdown",
      "metadata": {
        "id": "wROvRRbHgmxm"
      },
      "source": [
        "index가 더 이상 `RangeIndex`가 아닌 새롭게 부여된 index로 덮어 씌워짐을 확인할 수 있습니다.\n",
        "\n",
        "또한, 새롭게 부여된 index로 **색인(indexing) 가능**합니다."
      ]
    },
    {
      "cell_type": "code",
      "execution_count": null,
      "metadata": {
        "id": "PPlSRAWR0F1G"
      },
      "outputs": [],
      "source": [
        "s['c']"
      ]
    },
    {
      "cell_type": "markdown",
      "metadata": {
        "id": "_IRutdQOgmxs"
      },
      "source": [
        "하지만, 기본 부여된 **숫자형 index로도 접근 가능**합니다.\n",
        "\n",
        "단, 여기서 사용되는 숫자는 Index 리스트(list)의 요소의 위치 값을 접근하는 개념입니다."
      ]
    },
    {
      "cell_type": "code",
      "execution_count": null,
      "metadata": {
        "id": "u0dEjDkagmxs"
      },
      "outputs": [],
      "source": [
        "s.index"
      ]
    },
    {
      "cell_type": "code",
      "execution_count": null,
      "metadata": {
        "id": "4xR6apK7gmxt"
      },
      "outputs": [],
      "source": [
        "s[2]"
      ]
    },
    {
      "cell_type": "markdown",
      "metadata": {
        "id": "aFlRzdvggmxt"
      },
      "source": [
        "s.index의 2번 position에는 'c' 요소가 있고, 바로 이 'c' 값으로 색인되는 원리입니다.'\n",
        "\n",
        "그리고, 이렇게 리스트(list)에 position으로 접근할 때 음수 indexing을 허용합니다."
      ]
    },
    {
      "cell_type": "code",
      "execution_count": null,
      "metadata": {
        "id": "Zcs2ZYZmgmxt"
      },
      "outputs": [],
      "source": [
        "s.index"
      ]
    },
    {
      "cell_type": "code",
      "execution_count": null,
      "metadata": {
        "id": "oBgP5AC3gmxt"
      },
      "outputs": [],
      "source": [
        "s[-1]"
      ]
    },
    {
      "cell_type": "markdown",
      "metadata": {
        "id": "mriWv__agmxt"
      },
      "source": [
        "-1 position에는 'e'요소가 있고, 'e'로 색인시 '인사'라는 결과가 출력됩니다."
      ]
    },
    {
      "cell_type": "markdown",
      "metadata": {
        "id": "AE0MYGpz0F1H"
      },
      "source": [
        "Series를 먼저 생성한 후 나중에 index를 부여할 수 있습니다.\n",
        "\n",
        "- `Series.index`로 index를 지정합니다.\n",
        "- 단, 지정하는 `index`의 갯수가 데이터의 갯수와 맞아야 합니다."
      ]
    },
    {
      "cell_type": "code",
      "execution_count": null,
      "metadata": {
        "id": "EpXE5-k1gmxu"
      },
      "outputs": [],
      "source": [
        "s = pd.Series(['마케팅', '경영', '개발', '기획', '인사'])\n",
        "s.index"
      ]
    },
    {
      "cell_type": "code",
      "execution_count": null,
      "metadata": {
        "id": "tVqf6ofz0F1I"
      },
      "outputs": [],
      "source": [
        "s.index = list('abcde')"
      ]
    },
    {
      "cell_type": "code",
      "execution_count": null,
      "metadata": {
        "id": "tYdPH4Vv0F1J"
      },
      "outputs": [],
      "source": [
        "s.index"
      ]
    },
    {
      "cell_type": "markdown",
      "metadata": {
        "id": "sauzX0Qtgmxu"
      },
      "source": [
        "### values"
      ]
    },
    {
      "cell_type": "markdown",
      "metadata": {
        "id": "4B-BnuTF0F1L"
      },
      "source": [
        "`values`는 Series 데이터 값(value)만 **numpy array** 형식으로 가져 옵니다."
      ]
    },
    {
      "cell_type": "code",
      "execution_count": null,
      "metadata": {
        "id": "n_F-hgw_0F1M"
      },
      "outputs": [],
      "source": [
        "s.values"
      ]
    },
    {
      "cell_type": "markdown",
      "metadata": {
        "id": "nAt_kFOY0F1N"
      },
      "source": [
        "### ndim - 차원"
      ]
    },
    {
      "cell_type": "markdown",
      "metadata": {
        "id": "6mVJXeurgmxv"
      },
      "source": [
        "Series는 1차원 자료구조이기 때문에 ndim 출력시 **1**이 출력됩니다."
      ]
    },
    {
      "cell_type": "code",
      "execution_count": null,
      "metadata": {
        "id": "as--pRDo0F1N"
      },
      "outputs": [],
      "source": [
        "s.ndim"
      ]
    },
    {
      "cell_type": "markdown",
      "metadata": {
        "id": "7rNPxFwCgmxv"
      },
      "source": [
        "### shape"
      ]
    },
    {
      "cell_type": "markdown",
      "metadata": {
        "id": "4KHefFIC0F1P"
      },
      "source": [
        "shape은 데이터의 모양(shape)을 알아보기 위하여 사용하는데, Series의 shape은 **데이터의 갯수**를 나타냅니다.\n",
        "\n",
        "**튜플(tuple)** 형식으로 출력됩니다."
      ]
    },
    {
      "cell_type": "code",
      "execution_count": null,
      "metadata": {
        "id": "3pHFMH1A0F1P"
      },
      "outputs": [],
      "source": [
        "s.shape"
      ]
    },
    {
      "cell_type": "markdown",
      "metadata": {
        "id": "l6Q49aP4An8E"
      },
      "source": [
        "### NaN (Not a Number)"
      ]
    },
    {
      "cell_type": "markdown",
      "metadata": {
        "id": "4hT48NZ3gmxw"
      },
      "source": [
        "Pandas에서 **NaN 값**은 비어있는 **결측치 데이터**를 의미합니다.\n",
        "\n",
        "임의로 비어있는 값을 대입하고자 할 때는 **numpy의 nan (np.nan)**을 입력합니다."
      ]
    },
    {
      "cell_type": "code",
      "execution_count": null,
      "metadata": {
        "id": "_MYC_bjwAn8E"
      },
      "outputs": [],
      "source": [
        "s = pd.Series(['선화', '강호', np.nan, '소정', '우영'])\n",
        "s"
      ]
    },
    {
      "cell_type": "markdown",
      "metadata": {
        "id": "NfE11JSYgmxw"
      },
      "source": [
        "### 연습문제"
      ]
    },
    {
      "cell_type": "markdown",
      "metadata": {
        "id": "HDQdX1-fgmxw"
      },
      "source": [
        "다음과 같은 Series를 생성해 주세요\n",
        "\n",
        "- s1 변수에 Series를 생성합니다.\n",
        "- dtype은 'float32'가 출력 되도록 합니다."
      ]
    },
    {
      "cell_type": "code",
      "execution_count": null,
      "metadata": {
        "id": "NW9NLduLgmxx"
      },
      "outputs": [],
      "source": [
        "# 코드를 입력해 주세요\n"
      ]
    },
    {
      "cell_type": "markdown",
      "metadata": {
        "id": "r6Z5jYBKgmxx"
      },
      "source": [
        "<p><strong>[출력 결과]</strong></p><pre>0    50.0\n",
        "1    51.0\n",
        "2    52.0\n",
        "3    53.0\n",
        "4    54.0\n",
        "dtype: float32</pre>"
      ]
    },
    {
      "cell_type": "markdown",
      "metadata": {
        "id": "USI1I10lgmxx"
      },
      "source": [
        "다음과 같은 Series를 생성해 주세요\n",
        "\n",
        "- s2 변수에 Series를 생성합니다."
      ]
    },
    {
      "cell_type": "code",
      "execution_count": null,
      "metadata": {
        "id": "g4NcaNx6gmxx"
      },
      "outputs": [],
      "source": [
        "# 코드를 입력해 주세요\n"
      ]
    },
    {
      "cell_type": "markdown",
      "metadata": {
        "id": "5Jgtkqf0gmxx"
      },
      "source": [
        "<p><strong>[출력 결과]</strong></p><pre>가     apple\n",
        "나       NaN\n",
        "다    banana\n",
        "라      kiwi\n",
        "마    gubong\n",
        "dtype: object</pre>"
      ]
    },
    {
      "cell_type": "markdown",
      "metadata": {
        "id": "oMg-HSOJAn8J"
      },
      "source": [
        "### indexing"
      ]
    },
    {
      "cell_type": "code",
      "execution_count": null,
      "metadata": {
        "id": "R1GPRBgoAn8K"
      },
      "outputs": [],
      "source": [
        "s = pd.Series(['손흥민', '김연아', '박세리', '박찬호', '김연경'], index=['a', 'b', 'c', 'd', 'e'])\n",
        "s"
      ]
    },
    {
      "cell_type": "markdown",
      "metadata": {
        "id": "yw3Rtm7Ugmxy"
      },
      "source": [
        "index는 기본 부여된 **숫자형 index**와 내가 **새롭게 지정한 index** **둘 다 조회 가능**합니다."
      ]
    },
    {
      "cell_type": "code",
      "execution_count": null,
      "metadata": {
        "id": "M10OWDzcgmxy"
      },
      "outputs": [],
      "source": [
        "s[1]"
      ]
    },
    {
      "cell_type": "code",
      "execution_count": null,
      "metadata": {
        "id": "-ggJfThwgmxy"
      },
      "outputs": [],
      "source": [
        "s['b']"
      ]
    },
    {
      "cell_type": "markdown",
      "metadata": {
        "id": "QBXmUT_Cgmxz"
      },
      "source": [
        "### fancy indexing"
      ]
    },
    {
      "cell_type": "markdown",
      "metadata": {
        "id": "LHZ4cRvJgmxz"
      },
      "source": [
        "**fancy indexing**은 index를 선택하여 list로 정의하고, 선택한 index list로 indexing 하는 방법입니다."
      ]
    },
    {
      "cell_type": "code",
      "execution_count": null,
      "metadata": {
        "id": "rhDaxD05gmxz"
      },
      "outputs": [],
      "source": [
        "s[['a','c']]"
      ]
    },
    {
      "cell_type": "code",
      "execution_count": null,
      "metadata": {
        "id": "gVGRXvnwgmxz"
      },
      "outputs": [],
      "source": [
        "i = ['a', 'c']\n",
        "s[i]"
      ]
    },
    {
      "cell_type": "markdown",
      "metadata": {
        "id": "CJsqBKi2gmxz"
      },
      "source": [
        "### boolean indexing"
      ]
    },
    {
      "cell_type": "markdown",
      "metadata": {
        "id": "gjgCkyh8gmxz"
      },
      "source": [
        "**boolean index**은 index list 에서 **True인 index 만 선택**합니다.\n",
        "\n",
        "주의해야할 점은 반드시 boolean index list의 갯수와 Series의 갯수가 맞아야 합니다."
      ]
    },
    {
      "cell_type": "code",
      "execution_count": null,
      "metadata": {
        "id": "GfirGemhgmxz"
      },
      "outputs": [],
      "source": [
        "s[[True, True, False, False, True]]"
      ]
    },
    {
      "cell_type": "code",
      "execution_count": null,
      "metadata": {
        "id": "gqaTd8l8gmx0"
      },
      "outputs": [],
      "source": [
        "i = [True, True, False, False, True]\n",
        "s[i]"
      ]
    },
    {
      "cell_type": "markdown",
      "metadata": {
        "id": "V87ohm22gmx0"
      },
      "source": [
        "조건을 걸어서 **boolean index list를 먼저 만들어 준 뒤 대입**할 수 있습니다."
      ]
    },
    {
      "cell_type": "code",
      "execution_count": null,
      "metadata": {
        "id": "wGdfp7AGgmx0"
      },
      "outputs": [],
      "source": [
        "s = pd.Series([29, 99, np.nan, 11, 56], index=['a', 'b', 'c', 'd', 'e'])\n",
        "s"
      ]
    },
    {
      "cell_type": "code",
      "execution_count": null,
      "metadata": {
        "id": "xfK_TFRBgmx0"
      },
      "outputs": [],
      "source": [
        "s > 50"
      ]
    },
    {
      "cell_type": "code",
      "execution_count": null,
      "metadata": {
        "id": "HNhN4UC5gmx0"
      },
      "outputs": [],
      "source": [
        "s[s > 50]"
      ]
    },
    {
      "cell_type": "markdown",
      "metadata": {
        "id": "Z5yU-hzSgmx1"
      },
      "source": [
        "### 결측치 (NaN) 값 처리"
      ]
    },
    {
      "cell_type": "markdown",
      "metadata": {
        "id": "jyryfNzUzOEN"
      },
      "source": [
        "`isnull()`과 `isna()`은 **NaN** 값을 찾는 함수 입니다.\n",
        "\n",
        "`isnull()`과 `isna()`는 결과가 동일합니다."
      ]
    },
    {
      "cell_type": "code",
      "execution_count": null,
      "metadata": {
        "id": "E-TXkwU5An8F"
      },
      "outputs": [],
      "source": [
        "s.isnull()"
      ]
    },
    {
      "cell_type": "code",
      "execution_count": null,
      "metadata": {
        "id": "OVty_1T_eHuW"
      },
      "outputs": [],
      "source": [
        "s.isna()"
      ]
    },
    {
      "cell_type": "markdown",
      "metadata": {
        "id": "eoMYbh-Ugmx1"
      },
      "source": [
        "이를 boolean indexing에 적용해볼 수 있습니다."
      ]
    },
    {
      "cell_type": "code",
      "execution_count": null,
      "metadata": {
        "id": "kohwLRCIgmx1"
      },
      "outputs": [],
      "source": [
        "s[s.isnull()]"
      ]
    },
    {
      "cell_type": "code",
      "execution_count": null,
      "metadata": {
        "id": "vgzEqSYLgmx1"
      },
      "outputs": [],
      "source": [
        "s[s.isna()]"
      ]
    },
    {
      "cell_type": "markdown",
      "metadata": {
        "id": "iiZTKpPigmx1"
      },
      "source": [
        "`notnull()`은 NaN값이 아닌, 즉 비어있지 않은 데이터를 찾는 함수 입니다."
      ]
    },
    {
      "cell_type": "code",
      "execution_count": null,
      "metadata": {
        "id": "_9lrkzVMAn8G"
      },
      "outputs": [],
      "source": [
        "s.notnull()"
      ]
    },
    {
      "cell_type": "code",
      "execution_count": null,
      "metadata": {
        "id": "Rm6pMqDcgmx2"
      },
      "outputs": [],
      "source": [
        "s.notna()"
      ]
    },
    {
      "cell_type": "code",
      "execution_count": null,
      "metadata": {
        "id": "117LD2AQgmx2"
      },
      "outputs": [],
      "source": [
        "s[s.notnull()]"
      ]
    },
    {
      "cell_type": "markdown",
      "metadata": {
        "id": "YIzQksUrgmx2"
      },
      "source": [
        "### slicing"
      ]
    },
    {
      "cell_type": "markdown",
      "metadata": {
        "id": "mOVqvNOIgmx2"
      },
      "source": [
        "**(주의)** 숫자형 index로 접근할 때는 뒷 index가 포함되지 않습니다."
      ]
    },
    {
      "cell_type": "code",
      "execution_count": null,
      "metadata": {
        "id": "zoISgFeBgmx2"
      },
      "outputs": [],
      "source": [
        "s[1:3]"
      ]
    },
    {
      "cell_type": "markdown",
      "metadata": {
        "id": "LSLnaPcmgmx2"
      },
      "source": [
        "새롭게 지정한 인덱스는 시작 index와 끝 index **모두 포함**합니다."
      ]
    },
    {
      "cell_type": "code",
      "execution_count": null,
      "metadata": {
        "id": "lCoLwp-Mgmx3"
      },
      "outputs": [],
      "source": [
        "s['b':'c']"
      ]
    },
    {
      "cell_type": "markdown",
      "metadata": {
        "id": "-tG91m0AAn8O"
      },
      "source": [
        "## DataFrame"
      ]
    },
    {
      "cell_type": "markdown",
      "metadata": {
        "id": "uSY2ttOJgmx3"
      },
      "source": [
        "[도큐먼트](https://pandas.pydata.org/pandas-docs/stable/reference/api/pandas.DataFrame.html)"
      ]
    },
    {
      "cell_type": "markdown",
      "metadata": {
        "id": "4rLuWuXQzOEl"
      },
      "source": [
        "`pd.DataFrame`\n",
        "\n",
        "- 2차원 데이터 구조 (Excel 데이터 시트를 생각하시면 됩니다)\n",
        "- 행(row), 열(column)으로 구성되어 있습니다.\n",
        "- 각 열(column)은 각각의 데이터 타입 (dtype)을 가집니다."
      ]
    },
    {
      "cell_type": "markdown",
      "metadata": {
        "id": "x6NgMfIdAn8O"
      },
      "source": [
        "### 생성"
      ]
    },
    {
      "cell_type": "markdown",
      "metadata": {
        "id": "8wS5pcDvAn8O"
      },
      "source": [
        "**list 를 통한 생성**할 수 있습니다. DataFrame을 만들 때는 **2차원 list를 대입**합니다."
      ]
    },
    {
      "cell_type": "code",
      "execution_count": null,
      "metadata": {
        "id": "yHz8TPrhAn8O"
      },
      "outputs": [],
      "source": [
        "pd.DataFrame([[1, 2, 3],\n",
        "              [4, 5, 6],\n",
        "              [7, 8, 9]])"
      ]
    },
    {
      "cell_type": "markdown",
      "metadata": {
        "id": "Hbz5IzsKgmx4"
      },
      "source": [
        "아래 예제와 같이 **columns를 지정**하면, DataFrame의 각 열에 대한 컬럼명이 붙습니다."
      ]
    },
    {
      "cell_type": "code",
      "execution_count": null,
      "metadata": {
        "id": "NIdeuU9LAn8P"
      },
      "outputs": [],
      "source": [
        "pd.DataFrame([[1, 2, 3],\n",
        "              [4, 5, 6],\n",
        "              [7, 8, 9]], columns=['가', '나', '다'])"
      ]
    },
    {
      "cell_type": "markdown",
      "metadata": {
        "id": "u-kYbMNnAn8P"
      },
      "source": [
        "**dictionary를 통한 생성**도 가능합니다.\n",
        "\n",
        "편리한 점은 dictionary의 **key 값이 자동으로 column 명으로 지정**됩니다."
      ]
    },
    {
      "cell_type": "code",
      "execution_count": null,
      "metadata": {
        "id": "iXfXCIBcAn8Q"
      },
      "outputs": [],
      "source": [
        "data = {\n",
        "    'name': ['Kim', 'Lee', 'Park'],\n",
        "    'age': [24, 27, 34],\n",
        "    'children': [2, 1, 3]\n",
        "}"
      ]
    },
    {
      "cell_type": "code",
      "execution_count": null,
      "metadata": {
        "id": "Sgee159qAn8Q"
      },
      "outputs": [],
      "source": [
        "pd.DataFrame(data)"
      ]
    },
    {
      "cell_type": "markdown",
      "metadata": {
        "id": "sXH56Rfugmx4"
      },
      "source": [
        "### 속성"
      ]
    },
    {
      "cell_type": "markdown",
      "metadata": {
        "id": "alO59EU1gmx4"
      },
      "source": [
        "DataFrame은 다음의 **속성**을 가집니다.\n",
        "\n",
        "- **index**: index (기본 값으로 RangeIndex)\n",
        "- **columns**: column 명\n",
        "- **values**: numpy array형식의 데이터 값\n",
        "- **dtypes**: column 별 데이터 타입\n",
        "- **T**: DataFrame을 전치(Transpose)"
      ]
    },
    {
      "cell_type": "code",
      "execution_count": null,
      "metadata": {
        "id": "39XHSMOpgmx5"
      },
      "outputs": [],
      "source": [
        "data = {\n",
        "    'name': ['Kim', 'Lee', 'Park'],\n",
        "    'age': [24, 27, 34],\n",
        "    'children': [2, 1, 3]\n",
        "}\n",
        "\n",
        "df = pd.DataFrame(data)\n",
        "df"
      ]
    },
    {
      "cell_type": "code",
      "execution_count": null,
      "metadata": {
        "id": "bEsxX4xSgmx5"
      },
      "outputs": [],
      "source": [
        "df.index"
      ]
    },
    {
      "cell_type": "code",
      "execution_count": null,
      "metadata": {
        "id": "n6_o830Jgmx5"
      },
      "outputs": [],
      "source": [
        "df.columns"
      ]
    },
    {
      "cell_type": "code",
      "execution_count": null,
      "metadata": {
        "id": "iwdbAPc1gmx5"
      },
      "outputs": [],
      "source": [
        "df.values"
      ]
    },
    {
      "cell_type": "code",
      "execution_count": null,
      "metadata": {
        "id": "KK3H2b2tgmx5"
      },
      "outputs": [],
      "source": [
        "df.dtypes"
      ]
    },
    {
      "cell_type": "code",
      "execution_count": null,
      "metadata": {
        "id": "jVokqxP6gmx5"
      },
      "outputs": [],
      "source": [
        "df.T"
      ]
    },
    {
      "cell_type": "markdown",
      "metadata": {
        "id": "t_VWZc5Mgmx5"
      },
      "source": [
        "### index 지정"
      ]
    },
    {
      "cell_type": "code",
      "execution_count": null,
      "metadata": {
        "id": "w5yciaW9gmx6"
      },
      "outputs": [],
      "source": [
        "df"
      ]
    },
    {
      "cell_type": "code",
      "execution_count": null,
      "metadata": {
        "id": "5Z1JsIk2gmx6"
      },
      "outputs": [],
      "source": [
        "df.index = list('abc')\n",
        "df"
      ]
    },
    {
      "cell_type": "markdown",
      "metadata": {
        "id": "uOZ99A3Pgmx6"
      },
      "source": [
        "(참고) DataFrame의 indexing / slicing은 나중에 세부적으로 다루도록 하겠습니다."
      ]
    },
    {
      "cell_type": "markdown",
      "metadata": {
        "id": "Xofm0bt9gmx6"
      },
      "source": [
        "### column 다루기"
      ]
    },
    {
      "cell_type": "markdown",
      "metadata": {
        "id": "ZxCad6Jsgmx6"
      },
      "source": [
        "DataFrame에 key 값으로 column의 이름을 지정하여 column을 선택할 수 있습니다.\n",
        "\n",
        "1개의 column을 가져올 수 있으며, **1개의 column 선택시 Series**가 됩니다."
      ]
    },
    {
      "cell_type": "code",
      "execution_count": null,
      "metadata": {
        "id": "bnWCh_R_gmx6"
      },
      "outputs": [],
      "source": [
        "df['name']"
      ]
    },
    {
      "cell_type": "code",
      "execution_count": null,
      "metadata": {
        "id": "2kIA6cL8gmx6"
      },
      "outputs": [],
      "source": [
        "type(df['name'])"
      ]
    },
    {
      "cell_type": "markdown",
      "metadata": {
        "id": "Is4Poo8xgmx7"
      },
      "source": [
        "2개 이상의 column 선택은 **fancy indexing으로 가능**합니다."
      ]
    },
    {
      "cell_type": "code",
      "execution_count": null,
      "metadata": {
        "id": "2jYX8az4gmx7"
      },
      "outputs": [],
      "source": [
        "df[['name', 'children']]"
      ]
    },
    {
      "cell_type": "markdown",
      "metadata": {
        "id": "79wMOIO4gmx7"
      },
      "source": [
        "(참고) column에 대한 slicing도 가능 하지만 이 부분도 나중에 다루도록 하겠습니다."
      ]
    },
    {
      "cell_type": "markdown",
      "metadata": {
        "id": "wL-3SBHmgmx7"
      },
      "source": [
        "**rename**으로 column명 변경 가능합니다."
      ]
    },
    {
      "cell_type": "markdown",
      "metadata": {
        "id": "tlFhK8Uigmx7"
      },
      "source": [
        "DataFrame.rename(columns={'바꾸고자 하는 컬럼명': '바꿀 컬럼명'})"
      ]
    },
    {
      "cell_type": "code",
      "execution_count": null,
      "metadata": {
        "id": "FaKZPu_ngmx7"
      },
      "outputs": [],
      "source": [
        "df.rename(columns={'name': '이름'})"
      ]
    },
    {
      "cell_type": "code",
      "execution_count": null,
      "metadata": {
        "id": "kcFXTlI6gmx7"
      },
      "outputs": [],
      "source": [
        "df.rename({'name': '이름'}, axis=1)"
      ]
    },
    {
      "cell_type": "markdown",
      "metadata": {
        "id": "XOHpBn_mgmx7"
      },
      "source": [
        "`inplace=True` 옵션으로 변경사항을 바로 적용할 수 있습니다."
      ]
    },
    {
      "cell_type": "code",
      "execution_count": null,
      "metadata": {
        "id": "duxSLVmsgmx8"
      },
      "outputs": [],
      "source": [
        "df.rename(columns={'name': '이름'}, inplace=True)\n",
        "df"
      ]
    },
    {
      "cell_type": "markdown",
      "metadata": {
        "id": "9L8RfDskgmx8"
      },
      "source": [
        "### 연습문제"
      ]
    },
    {
      "cell_type": "markdown",
      "metadata": {
        "id": "N5dELe-0gmx8"
      },
      "source": [
        "다음의 DataFrame을 생성하세요\n",
        "\n",
        "- 생성된 DataFrame은 df 변수에 할당합니다."
      ]
    },
    {
      "cell_type": "code",
      "execution_count": null,
      "metadata": {
        "id": "55u2YFhhgmx8"
      },
      "outputs": [],
      "source": [
        "# 코드를 입력해 주세요\n"
      ]
    },
    {
      "cell_type": "markdown",
      "metadata": {
        "id": "YkuYMrPYgmx8"
      },
      "source": [
        "<p><strong>[출력 결과]</strong></p><div>\n",
        "<style scoped>\n",
        "    .dataframe tbody tr th:only-of-type {\n",
        "        vertical-align: middle;\n",
        "    }\n",
        "\n",
        "    .dataframe tbody tr th {\n",
        "        vertical-align: top;\n",
        "    }\n",
        "\n",
        "    .dataframe thead th {\n",
        "        text-align: right;\n",
        "    }\n",
        "</style>\n",
        "<table border=\"1\" class=\"dataframe\">\n",
        "  <thead>\n",
        "    <tr style=\"text-align: right;\">\n",
        "      <th></th>\n",
        "      <th>food</th>\n",
        "      <th>price</th>\n",
        "      <th>rating</th>\n",
        "    </tr>\n",
        "  </thead>\n",
        "  <tbody>\n",
        "    <tr>\n",
        "      <th>0</th>\n",
        "      <td>KFC</td>\n",
        "      <td>1000</td>\n",
        "      <td>4.5</td>\n",
        "    </tr>\n",
        "    <tr>\n",
        "      <th>1</th>\n",
        "      <td>McDonald</td>\n",
        "      <td>2000</td>\n",
        "      <td>3.9</td>\n",
        "    </tr>\n",
        "    <tr>\n",
        "      <th>2</th>\n",
        "      <td>SchoolFood</td>\n",
        "      <td>2500</td>\n",
        "      <td>4.2</td>\n",
        "    </tr>\n",
        "  </tbody>\n",
        "</table>\n",
        "</div>"
      ]
    },
    {
      "cell_type": "markdown",
      "metadata": {
        "id": "nVloKB3Egmx8"
      },
      "source": [
        "food 컬럼과 rating 컬럼만 선택하여 출력하세요"
      ]
    },
    {
      "cell_type": "code",
      "execution_count": null,
      "metadata": {
        "id": "w6IOGzjSgmx8"
      },
      "outputs": [],
      "source": [
        "# 코드를 입력해 주세요\n"
      ]
    },
    {
      "cell_type": "markdown",
      "metadata": {
        "id": "v6zvSIU7gmx8"
      },
      "source": [
        "<p><strong>[출력 결과]</strong></p><div>\n",
        "<style scoped>\n",
        "    .dataframe tbody tr th:only-of-type {\n",
        "        vertical-align: middle;\n",
        "    }\n",
        "\n",
        "    .dataframe tbody tr th {\n",
        "        vertical-align: top;\n",
        "    }\n",
        "\n",
        "    .dataframe thead th {\n",
        "        text-align: right;\n",
        "    }\n",
        "</style>\n",
        "<table border=\"1\" class=\"dataframe\">\n",
        "  <thead>\n",
        "    <tr style=\"text-align: right;\">\n",
        "      <th></th>\n",
        "      <th>food</th>\n",
        "      <th>rating</th>\n",
        "    </tr>\n",
        "  </thead>\n",
        "  <tbody>\n",
        "    <tr>\n",
        "      <th>0</th>\n",
        "      <td>KFC</td>\n",
        "      <td>4.5</td>\n",
        "    </tr>\n",
        "    <tr>\n",
        "      <th>1</th>\n",
        "      <td>McDonald</td>\n",
        "      <td>3.9</td>\n",
        "    </tr>\n",
        "    <tr>\n",
        "      <th>2</th>\n",
        "      <td>SchoolFood</td>\n",
        "      <td>4.2</td>\n",
        "    </tr>\n",
        "  </tbody>\n",
        "</table>\n",
        "</div>"
      ]
    },
    {
      "cell_type": "markdown",
      "metadata": {
        "id": "WW-DVOQhgmx9"
      },
      "source": [
        "food 컬럼명을 place로 컬럼명을 변경해 주세요"
      ]
    },
    {
      "cell_type": "code",
      "execution_count": null,
      "metadata": {
        "id": "4uLs-35Cgmx9"
      },
      "outputs": [],
      "source": [
        "# 코드를 입력해 주세요\n"
      ]
    },
    {
      "cell_type": "markdown",
      "metadata": {
        "id": "-KQUB41dgmx9"
      },
      "source": [
        "<p><strong>[출력 결과]</strong></p><div>\n",
        "<style scoped>\n",
        "    .dataframe tbody tr th:only-of-type {\n",
        "        vertical-align: middle;\n",
        "    }\n",
        "\n",
        "    .dataframe tbody tr th {\n",
        "        vertical-align: top;\n",
        "    }\n",
        "\n",
        "    .dataframe thead th {\n",
        "        text-align: right;\n",
        "    }\n",
        "</style>\n",
        "<table border=\"1\" class=\"dataframe\">\n",
        "  <thead>\n",
        "    <tr style=\"text-align: right;\">\n",
        "      <th></th>\n",
        "      <th>place</th>\n",
        "      <th>price</th>\n",
        "      <th>rating</th>\n",
        "    </tr>\n",
        "  </thead>\n",
        "  <tbody>\n",
        "    <tr>\n",
        "      <th>0</th>\n",
        "      <td>KFC</td>\n",
        "      <td>1000</td>\n",
        "      <td>4.5</td>\n",
        "    </tr>\n",
        "    <tr>\n",
        "      <th>1</th>\n",
        "      <td>McDonald</td>\n",
        "      <td>2000</td>\n",
        "      <td>3.9</td>\n",
        "    </tr>\n",
        "    <tr>\n",
        "      <th>2</th>\n",
        "      <td>SchoolFood</td>\n",
        "      <td>2500</td>\n",
        "      <td>4.2</td>\n",
        "    </tr>\n",
        "  </tbody>\n",
        "</table>\n",
        "</div>"
      ]
    }
  ],
  "metadata": {
    "colab": {
      "name": "01-pandas-자료구조 (실습)",
      "provenance": [],
      "include_colab_link": true
    },
    "kernelspec": {
      "display_name": "Python 3",
      "language": "python",
      "name": "python3"
    },
    "language_info": {
      "codemirror_mode": {
        "name": "ipython",
        "version": 3
      },
      "file_extension": ".py",
      "mimetype": "text/x-python",
      "name": "python",
      "nbconvert_exporter": "python",
      "pygments_lexer": "ipython3",
      "version": "3.7.10"
    }
  },
  "nbformat": 4,
  "nbformat_minor": 0
}